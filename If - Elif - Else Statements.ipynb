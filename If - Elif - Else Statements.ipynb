{
 "cells": [
  {
   "cell_type": "markdown",
   "id": "82b6b363",
   "metadata": {},
   "source": [
    "# If - Elif - Else Statements "
   ]
  },
  {
   "cell_type": "code",
   "execution_count": null,
   "id": "abddb104",
   "metadata": {},
   "outputs": [],
   "source": []
  },
  {
   "cell_type": "code",
   "execution_count": 2,
   "id": "ba9f7245",
   "metadata": {},
   "outputs": [
    {
     "name": "stdout",
     "output_type": "stream",
     "text": [
      "if statement worked!\n"
     ]
    }
   ],
   "source": [
    "if 25 > 10 :\n",
    "    print('if statement worked!')"
   ]
  },
  {
   "cell_type": "code",
   "execution_count": 3,
   "id": "92daf589",
   "metadata": {},
   "outputs": [],
   "source": []
  },
  {
   "cell_type": "code",
   "execution_count": null,
   "id": "5edaab69",
   "metadata": {},
   "outputs": [],
   "source": [
    "if 25 < 10 :\n",
    "    print('if statement worked!')"
   ]
  },
  {
   "cell_type": "code",
   "execution_count": null,
   "id": "079f9990",
   "metadata": {},
   "outputs": [],
   "source": []
  },
  {
   "cell_type": "code",
   "execution_count": 13,
   "id": "f91bac09",
   "metadata": {},
   "outputs": [
    {
     "name": "stdout",
     "output_type": "stream",
     "text": [
      "else statement worked!\n"
     ]
    }
   ],
   "source": [
    "if 25 < 10 :\n",
    "    print('if statement worked!')\n",
    "else:\n",
    "    print('else statement worked!')"
   ]
  },
  {
   "cell_type": "code",
   "execution_count": null,
   "id": "3bab6f05",
   "metadata": {},
   "outputs": [],
   "source": []
  },
  {
   "cell_type": "code",
   "execution_count": 14,
   "id": "4275839f",
   "metadata": {},
   "outputs": [
    {
     "name": "stdout",
     "output_type": "stream",
     "text": [
      "elif statement worked!\n"
     ]
    }
   ],
   "source": [
    "if 25 < 10 :\n",
    "    print('if statement worked!')\n",
    "elif 25 < 30 :\n",
    "    print('elif statement worked!')\n",
    "else:\n",
    "    print('else statement worked!')"
   ]
  },
  {
   "cell_type": "code",
   "execution_count": null,
   "id": "e986d7d1",
   "metadata": {},
   "outputs": [],
   "source": []
  },
  {
   "cell_type": "code",
   "execution_count": 15,
   "id": "2404820a",
   "metadata": {},
   "outputs": [
    {
     "name": "stdout",
     "output_type": "stream",
     "text": [
      "elif statement 3 worked!\n"
     ]
    }
   ],
   "source": [
    "if 25 < 10 :\n",
    "    print('if statement worked!')\n",
    "elif 25 < 20 :\n",
    "    print('elif statement worked!')\n",
    "elif 25 < 21 :\n",
    "    print('elif statement 2 worked!')\n",
    "elif 25 < 40:\n",
    "    print('elif statement 3 worked!')\n",
    "elif 25 < 50 :\n",
    "    print('elif statement 4 worked!')\n",
    "else:\n",
    "    print('else statement worked!')"
   ]
  },
  {
   "cell_type": "code",
   "execution_count": null,
   "id": "0a6e4ecb",
   "metadata": {},
   "outputs": [],
   "source": []
  },
  {
   "cell_type": "code",
   "execution_count": 16,
   "id": "2a5e4808",
   "metadata": {},
   "outputs": [
    {
     "name": "stdout",
     "output_type": "stream",
     "text": [
      "if statement worked!\n"
     ]
    }
   ],
   "source": [
    "if (25 < 10) or (1 < 3):\n",
    "    print('if statement worked!')\n",
    "elif 25 < 20 : \n",
    "    print('elif worked!')\n",
    "elif 25 < 21 :\n",
    "    print('elif 2 worked!')\n",
    "elif 25 < 40:\n",
    "    print('elif 3 worked!')\n",
    "elif 25 < 50 :\n",
    "    print('elif 4 worked!')\n",
    "else:\n",
    "    print('else statement worked!')"
   ]
  },
  {
   "cell_type": "code",
   "execution_count": null,
   "id": "a72d7c8c",
   "metadata": {},
   "outputs": [],
   "source": []
  },
  {
   "cell_type": "code",
   "execution_count": 17,
   "id": "889d9fb9",
   "metadata": {},
   "outputs": [
    {
     "name": "stdout",
     "output_type": "stream",
     "text": [
      "else statement worked!\n"
     ]
    }
   ],
   "source": [
    "print('if statement worked!') if 10 > 20 else print('else statement worked!')"
   ]
  },
  {
   "cell_type": "code",
   "execution_count": null,
   "id": "72a77450",
   "metadata": {},
   "outputs": [],
   "source": []
  },
  {
   "cell_type": "code",
   "execution_count": 18,
   "id": "8ed3be80",
   "metadata": {},
   "outputs": [
    {
     "name": "stdout",
     "output_type": "stream",
     "text": [
      "if statement worked!\n",
      "Nested if statement worked!\n"
     ]
    }
   ],
   "source": [
    "if (25 < 10) or (1 < 3):\n",
    "    print('if statement worked!')\n",
    "    if 10 > 5 :\n",
    "        print('Nested if statement worked!')\n",
    "elif 25 < 20 : \n",
    "    print('elif worked!')\n",
    "elif 25 < 21 :\n",
    "    print('elif 2 worked!')\n",
    "elif 25 < 40:\n",
    "    print('elif 3 worked!')\n",
    "elif 25 < 50 :\n",
    "    print('elif 4 worked!')\n",
    "else:\n",
    "    print('else statement worked!')"
   ]
  },
  {
   "cell_type": "code",
   "execution_count": null,
   "id": "2cb2ce25",
   "metadata": {},
   "outputs": [],
   "source": []
  },
  {
   "cell_type": "code",
   "execution_count": null,
   "id": "219ef88d",
   "metadata": {},
   "outputs": [],
   "source": []
  },
  {
   "cell_type": "code",
   "execution_count": null,
   "id": "4d18ffb7",
   "metadata": {},
   "outputs": [],
   "source": []
  },
  {
   "cell_type": "code",
   "execution_count": null,
   "id": "f4b602ec",
   "metadata": {},
   "outputs": [],
   "source": []
  },
  {
   "cell_type": "code",
   "execution_count": null,
   "id": "b7c28ce2",
   "metadata": {},
   "outputs": [],
   "source": []
  },
  {
   "cell_type": "code",
   "execution_count": null,
   "id": "c17e0b40",
   "metadata": {},
   "outputs": [],
   "source": []
  },
  {
   "cell_type": "code",
   "execution_count": null,
   "id": "f4b2dbc0",
   "metadata": {},
   "outputs": [],
   "source": []
  },
  {
   "cell_type": "code",
   "execution_count": null,
   "id": "028edef6",
   "metadata": {},
   "outputs": [],
   "source": []
  },
  {
   "cell_type": "code",
   "execution_count": null,
   "id": "ab331bef",
   "metadata": {},
   "outputs": [],
   "source": []
  },
  {
   "cell_type": "code",
   "execution_count": null,
   "id": "d5614bd0",
   "metadata": {},
   "outputs": [],
   "source": []
  },
  {
   "cell_type": "code",
   "execution_count": null,
   "id": "014f4e4b",
   "metadata": {},
   "outputs": [],
   "source": []
  },
  {
   "cell_type": "code",
   "execution_count": null,
   "id": "8e426994",
   "metadata": {},
   "outputs": [],
   "source": []
  },
  {
   "cell_type": "code",
   "execution_count": null,
   "id": "05ad250f",
   "metadata": {},
   "outputs": [],
   "source": []
  }
 ],
 "metadata": {
  "kernelspec": {
   "display_name": "Python 3 (ipykernel)",
   "language": "python",
   "name": "python3"
  },
  "language_info": {
   "codemirror_mode": {
    "name": "ipython",
    "version": 3
   },
   "file_extension": ".py",
   "mimetype": "text/x-python",
   "name": "python",
   "nbconvert_exporter": "python",
   "pygments_lexer": "ipython3",
   "version": "3.9.13"
  }
 },
 "nbformat": 4,
 "nbformat_minor": 5
}
